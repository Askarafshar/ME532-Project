{
 "cells": [
  {
   "cell_type": "code",
   "execution_count": null,
   "metadata": {},
   "outputs": [],
   "source": [
    "##### PLEASE change the PATH of dataset, when you run this code!!!!!!"
   ]
  },
  {
   "cell_type": "code",
   "execution_count": null,
   "metadata": {},
   "outputs": [],
   "source": [
    "##### PLEASE change the PATH of dataset, when you run this code!!!!!!"
   ]
  },
  {
   "cell_type": "code",
   "execution_count": 1,
   "metadata": {},
   "outputs": [
    {
     "name": "stdout",
     "output_type": "stream",
     "text": [
      "Loaded CIFAR-10 training set:\n",
      " - np.shape(images)     (50000, 32, 32, 3)\n",
      " - np.shape(labels)     (50000,)\n"
     ]
    }
   ],
   "source": [
    "##### PLEASE change the PATH of dataset, when you run this code!!!!!!\n",
    "import numpy as np\n",
    "import pickle\n",
    "from pathlib import Path\n",
    "\n",
    "# Path to the unzipped CIFAR data\n",
    "data_dir = Path(\"/Users/mmwr/downloads/cifar-10-batches-py/\")\n",
    "\n",
    "# Unpickle function provided by the CIFAR hosts\n",
    "def unpickle(file):\n",
    "    with open(file, \"rb\") as fo:\n",
    "        dict = pickle.load(fo, encoding=\"bytes\")\n",
    "    return dict\n",
    "\n",
    "images, labels = [], []\n",
    "for batch in data_dir.glob(\"data_batch_*\"):\n",
    "    batch_data = unpickle(batch)\n",
    "    for i, flat_im in enumerate(batch_data[b\"data\"]):\n",
    "        im_channels = []\n",
    "        # Each image is flattened, with channels in order of R, G, B\n",
    "        for j in range(3):\n",
    "            im_channels.append(\n",
    "                flat_im[j * 1024 : (j + 1) * 1024].reshape((32, 32))\n",
    "            )\n",
    "        # Reconstruct the original image\n",
    "        images.append(np.dstack((im_channels)))\n",
    "        # Save the label\n",
    "        labels.append(batch_data[b\"labels\"][i])\n",
    "\n",
    "print(\"Loaded CIFAR-10 training set:\")\n",
    "print(f\" - np.shape(images)     {np.shape(images)}\")\n",
    "print(f\" - np.shape(labels)     {np.shape(labels)}\")"
   ]
  },
  {
   "cell_type": "code",
   "execution_count": 97,
   "metadata": {},
   "outputs": [
    {
     "name": "stdout",
     "output_type": "stream",
     "text": [
      "2\n"
     ]
    },
    {
     "data": {
      "image/png": "[encoded data removed]",
      "text/plain": [
       "<Figure size 432x288 with 1 Axes>"
      ]
     },
     "metadata": {
      "needs_background": "light"
     },
     "output_type": "display_data"
    }
   ],
   "source": [
    "import matplotlib.pyplot as plt\n",
    "plt.imshow(images[5])\n",
    "img = images[6]\n",
    "print(labels[57])"
   ]
  },
  {
   "cell_type": "code",
   "execution_count": 3,
   "metadata": {},
   "outputs": [
    {
     "name": "stdout",
     "output_type": "stream",
     "text": [
      "(3022, 32, 32, 3)\n",
      "(3022, 1)\n"
     ]
    }
   ],
   "source": [
    "#find training data\n",
    "#find the cat pictures and labeled with 1 and cars, birds pic are assigned as -1\n",
    "#labels == 3 are cats\n",
    "#labels == 2 are birds\n",
    "#labels == 1 are cars\n",
    "index = np.where((np.array(labels)[0:10000] == 1) |(np.array(labels)[0:10000] == 2)| (np.array(labels)[0:10000] == 3))\n",
    "ind_cat = np.where(np.array(labels)[0:10000] == 3)\n",
    "ind_car_bir = np.where((np.array(labels)[0:10000] == 1)| (np.array(labels)[0:10000] == 2))\n",
    "images1 = np.array(images)\n",
    "images1 = images1[index]\n",
    "labels1 = np.array(labels)\n",
    "labels1[ind_cat] = 1\n",
    "labels1[ind_car_bir] = -1\n",
    "y = labels1[index]\n",
    "y_train = np.reshape(y,(len(y),1))\n",
    "x_train = images1\n",
    "print(x_train.shape)\n",
    "print(y_train.shape)"
   ]
  },
  {
   "cell_type": "code",
   "execution_count": 4,
   "metadata": {},
   "outputs": [
    {
     "name": "stdout",
     "output_type": "stream",
     "text": [
      "(897, 32, 32, 3)\n",
      "(897, 1)\n"
     ]
    }
   ],
   "source": [
    "#find testing data\n",
    "index_t = np.where((np.array(labels)[10001:13000] == 1) |(np.array(labels)[10001:13000] == 2)| (np.array(labels)[10001:13000] == 3))\n",
    "ind_cat_t = np.where(np.array(labels)[10001:13000] == 3)\n",
    "ind_car_bir_t = np.where((np.array(labels)[10001:13000] == 1)| (np.array(labels)[10001:13000] == 2))\n",
    "images2 = np.array(images)\n",
    "images2 = images2[index_t]\n",
    "labels2 = np.array(labels)\n",
    "labels2[ind_cat_t] = 1\n",
    "labels2[ind_car_bir_t] = -1\n",
    "y1 = labels2[index_t]\n",
    "y_test = np.reshape(y1,(len(y1),1))\n",
    "x_test = images2\n",
    "print(x_test.shape)\n",
    "print(y_test.shape)"
   ]
  },
  {
   "cell_type": "code",
   "execution_count": 5,
   "metadata": {},
   "outputs": [
    {
     "name": "stdout",
     "output_type": "stream",
     "text": [
      "(3022, 32, 32, 3)\n",
      "(897, 32, 32, 3)\n"
     ]
    }
   ],
   "source": [
    "#normalize train data and test data\n",
    "mean = np.mean(x_train, axis = (0,1,2,3))\n",
    "std = np.std(x_train, axis = (0,1,2,3))\n",
    "x_train = (x_train-mean)/(std+1e-7)\n",
    "x_test = (x_test-mean)/(std+1e-7)\n",
    "print(x_train.shape)\n",
    "print(x_test.shape)"
   ]
  },
  {
   "cell_type": "code",
   "execution_count": 6,
   "metadata": {},
   "outputs": [
    {
     "name": "stdout",
     "output_type": "stream",
     "text": [
      "(3022, 3072)\n",
      "(897, 3072)\n"
     ]
    }
   ],
   "source": [
    "#flatten matrix\n",
    "x_train = x_train.reshape(3022, 3072)\n",
    "x_test = x_test.reshape(897,3072)\n",
    "print(x_train.shape)\n",
    "print(x_test.shape)"
   ]
  },
  {
   "cell_type": "code",
   "execution_count": 43,
   "metadata": {},
   "outputs": [
    {
     "name": "stdout",
     "output_type": "stream",
     "text": [
      "Errors of train samples (3022): 1520\n",
      "Errors of test samples (897): 467\n"
     ]
    }
   ],
   "source": [
    "# Least_square solution\n",
    "w0 = np.linalg.inv(x_train.T@x_train)\n",
    "w_opt = w0@x_train.T@y_train\n",
    "y_train_hat = np.sign(x_train@w_opt)\n",
    "error_tran_data = [0 if i[0]==i[1] else 1 for i in np.hstack((y_train_hat, y_train))]\n",
    "print('Errors of train samples (3022): ' +str(sum(error_tran_data)))\n",
    "y_hat = np.sign(x_test@w_opt)\n",
    "error_vec = [0 if i[0]==i[1] else 1 for i in np.hstack((y_hat, y_test))]\n",
    "print('Errors of test samples (897): '+ str(sum(error_vec)))"
   ]
  },
  {
   "cell_type": "code",
   "execution_count": 49,
   "metadata": {},
   "outputs": [
    {
     "name": "stdout",
     "output_type": "stream",
     "text": [
      "(array([0]), array([12]))\n",
      "Errors for differnt lamda for training data [[0.01522171 0.02415619 0.06816678 0.10787558 0.12706817 0.17372601\n",
      "  0.19192588 0.21211118 0.22865652 0.24056916 0.27001985 0.2819325\n",
      "  0.31568498]]\n",
      "Errors for differnt lamda for testing data [[0.46822742 0.46265329 0.45707915 0.45819398 0.4671126  0.4671126\n",
      "  0.4671126  0.45930881 0.45373467 0.45596433 0.45039019 0.44593088\n",
      "  0.44147157]]\n",
      "best lamda value 500000.0\n",
      "Number of error in test data  [396.]\n"
     ]
    }
   ],
   "source": [
    "## Ridge Regression\n",
    "# Find the best Lamda for minimum misclassification\n",
    "lamda = np.array([0.5, 1.0, 10.0, 50.0, 100.0, 500.0, 1000.0, 2000.0, 5000.0, 10000.0, 50000.0, 100000.0, 500000.0])\n",
    "N = len(lamda)\n",
    "err = np.zeros((1,N))\n",
    "err0 = np.zeros((1,N))\n",
    "for i in range(N):\n",
    "    lam = lamda[i]\n",
    "    wr0 = np.linalg.inv(x_train.T@x_train + lam*np.identity(len(w0)))\n",
    "    w_rr = wr0@x_train.T@y_train\n",
    "    y_train_h = np.sign(x_train@w_rr)\n",
    "    error_1 = [0 if i[0]==i[1] else 1 for i in np.hstack((y_train_h, y_train))]\n",
    "    arr_err0 = np.array(error_1)\n",
    "    error0 = sum(arr_err0)\n",
    "    err0[:,i] = error0\n",
    "    yr_hat = np.sign(x_test@w_rr)\n",
    "    error_2 = [0 if i[0]==i[1] else 1 for i in np.hstack((yr_hat, y_test))]\n",
    "    arr_err = np.array(error_2)\n",
    "    error = sum(arr_err)\n",
    "    err[:,i] = error\n",
    "min_value = np.amin(err)\n",
    "index = np.where(err == min_value)\n",
    "print(index)\n",
    "print('Errors for differnt lamda for training data', err0/3022)\n",
    "print('Errors for differnt lamda for testing data', err/897)\n",
    "print('best lamda value', lamda[12])\n",
    "print('Number of error in test data ', err[:,12])"
   ]
  },
  {
   "cell_type": "code",
   "execution_count": 60,
   "metadata": {},
   "outputs": [
    {
     "name": "stderr",
     "output_type": "stream",
     "text": [
      "/Users/mmwr/opt/anaconda3/lib/python3.8/site-packages/sklearn/utils/validation.py:73: DataConversionWarning: A column-vector y was passed when a 1d array was expected. Please change the shape of y to (n_samples, ), for example using ravel().\n",
      "  return f(**kwargs)\n"
     ]
    },
    {
     "name": "stdout",
     "output_type": "stream",
     "text": [
      "Errors of training data: 1016\n",
      "Errors of testing data: 305\n"
     ]
    }
   ],
   "source": [
    "## Linear SVM \n",
    "from sklearn.svm import SVC\n",
    "n_test = np.size(y_test)\n",
    "n_train = np.size(y_train)\n",
    "x_train_1 = np.hstack((x_train, np.ones((n_train,1)) ))\n",
    "x_test_1 = np.hstack(( x_test, np.ones((n_test,1)) ))\n",
    "clf = SVC(kernel='linear',C=0.00001)\n",
    "clf.fit(x_train_1, y_train)\n",
    "svm_tr = clf.predict(x_train_1)\n",
    "y_hat_svmt = np.sign(svm_tr).reshape(n_train,1)\n",
    "error_rate0 = [0 if i[0]==i[1] else 1 for i in np.hstack((y_hat_svmt, y_train))]\n",
    "svm = clf.predict(x_test_1)\n",
    "print('Errors of training data: '+ str(sum(error_rate0)))\n",
    "y_hat_svm = np.sign(svm).reshape(n_test,1)\n",
    "#w_svm = clf.coef_.transpose()\n",
    "#y_hat_svm = np.sign(x_test_1@w_svm)\n",
    "error_rate = [0 if i[0]==i[1] else 1 for i in np.hstack((y_hat_svm, y_test))]\n",
    "print('Errors of testing data: '+ str(sum(error_rate)))"
   ]
  },
  {
   "cell_type": "code",
   "execution_count": 61,
   "metadata": {},
   "outputs": [
    {
     "name": "stderr",
     "output_type": "stream",
     "text": [
      "/Users/mmwr/opt/anaconda3/lib/python3.8/site-packages/sklearn/utils/validation.py:73: DataConversionWarning: A column-vector y was passed when a 1d array was expected. Please change the shape of y to (n_samples, ), for example using ravel().\n",
      "  return f(**kwargs)\n"
     ]
    },
    {
     "name": "stdout",
     "output_type": "stream",
     "text": [
      "Errors: 1016\n",
      "Errors: 305\n"
     ]
    }
   ],
   "source": [
    "##  rbf SVM \n",
    "clfr = SVC(kernel='rbf',gamma = 0.7,C=0.00001)\n",
    "clfr.fit(x_train_1, y_train)\n",
    "svm_r0 = clfr.predict(x_train_1)\n",
    "y_hat_svmr0 = np.sign(svm_r0).reshape(n_train,1)\n",
    "error_rate_r0 = [0 if i[0]==i[1] else 1 for i in np.hstack((y_hat_svmr0, y_train))]\n",
    "print('Errors: '+ str(sum(error_rate_r0)))\n",
    "svm_r = clfr.predict(x_test_1)\n",
    "y_hat_svmr = np.sign(svm_r).reshape(n_test,1)\n",
    "#w_svm = clf.coef_.transpose()\n",
    "#y_hat_svm = np.sign(x_test_1@w_svm)\n",
    "error_rate_r = [0 if i[0]==i[1] else 1 for i in np.hstack((y_hat_svmr, y_test))]\n",
    "print('Errors: '+ str(sum(error_rate_r)))"
   ]
  },
  {
   "cell_type": "code",
   "execution_count": 62,
   "metadata": {},
   "outputs": [
    {
     "name": "stderr",
     "output_type": "stream",
     "text": [
      "/Users/mmwr/opt/anaconda3/lib/python3.8/site-packages/sklearn/utils/validation.py:73: DataConversionWarning: A column-vector y was passed when a 1d array was expected. Please change the shape of y to (n_samples, ), for example using ravel().\n",
      "  return f(**kwargs)\n",
      "/Users/mmwr/opt/anaconda3/lib/python3.8/site-packages/sklearn/utils/validation.py:73: DataConversionWarning: A column-vector y was passed when a 1d array was expected. Please change the shape of y to (n_samples, ), for example using ravel().\n",
      "  return f(**kwargs)\n",
      "/Users/mmwr/opt/anaconda3/lib/python3.8/site-packages/sklearn/utils/validation.py:73: DataConversionWarning: A column-vector y was passed when a 1d array was expected. Please change the shape of y to (n_samples, ), for example using ravel().\n",
      "  return f(**kwargs)\n",
      "/Users/mmwr/opt/anaconda3/lib/python3.8/site-packages/sklearn/utils/validation.py:73: DataConversionWarning: A column-vector y was passed when a 1d array was expected. Please change the shape of y to (n_samples, ), for example using ravel().\n",
      "  return f(**kwargs)\n",
      "/Users/mmwr/opt/anaconda3/lib/python3.8/site-packages/sklearn/utils/validation.py:73: DataConversionWarning: A column-vector y was passed when a 1d array was expected. Please change the shape of y to (n_samples, ), for example using ravel().\n",
      "  return f(**kwargs)\n",
      "/Users/mmwr/opt/anaconda3/lib/python3.8/site-packages/sklearn/utils/validation.py:73: DataConversionWarning: A column-vector y was passed when a 1d array was expected. Please change the shape of y to (n_samples, ), for example using ravel().\n",
      "  return f(**kwargs)\n",
      "/Users/mmwr/opt/anaconda3/lib/python3.8/site-packages/sklearn/utils/validation.py:73: DataConversionWarning: A column-vector y was passed when a 1d array was expected. Please change the shape of y to (n_samples, ), for example using ravel().\n",
      "  return f(**kwargs)\n"
     ]
    },
    {
     "name": "stdout",
     "output_type": "stream",
     "text": [
      "[0.66435185 0.66435185 0.66435185 0.66435185 0.66203704 0.66357309\n",
      " 0.66357309]\n"
     ]
    },
    {
     "name": "stderr",
     "output_type": "stream",
     "text": [
      "/Users/mmwr/opt/anaconda3/lib/python3.8/site-packages/sklearn/utils/validation.py:73: DataConversionWarning: A column-vector y was passed when a 1d array was expected. Please change the shape of y to (n_samples, ), for example using ravel().\n",
      "  return f(**kwargs)\n",
      "/Users/mmwr/opt/anaconda3/lib/python3.8/site-packages/sklearn/utils/validation.py:73: DataConversionWarning: A column-vector y was passed when a 1d array was expected. Please change the shape of y to (n_samples, ), for example using ravel().\n",
      "  return f(**kwargs)\n",
      "/Users/mmwr/opt/anaconda3/lib/python3.8/site-packages/sklearn/utils/validation.py:73: DataConversionWarning: A column-vector y was passed when a 1d array was expected. Please change the shape of y to (n_samples, ), for example using ravel().\n",
      "  return f(**kwargs)\n",
      "/Users/mmwr/opt/anaconda3/lib/python3.8/site-packages/sklearn/utils/validation.py:73: DataConversionWarning: A column-vector y was passed when a 1d array was expected. Please change the shape of y to (n_samples, ), for example using ravel().\n",
      "  return f(**kwargs)\n",
      "/Users/mmwr/opt/anaconda3/lib/python3.8/site-packages/sklearn/utils/validation.py:73: DataConversionWarning: A column-vector y was passed when a 1d array was expected. Please change the shape of y to (n_samples, ), for example using ravel().\n",
      "  return f(**kwargs)\n",
      "/Users/mmwr/opt/anaconda3/lib/python3.8/site-packages/sklearn/utils/validation.py:73: DataConversionWarning: A column-vector y was passed when a 1d array was expected. Please change the shape of y to (n_samples, ), for example using ravel().\n",
      "  return f(**kwargs)\n",
      "/Users/mmwr/opt/anaconda3/lib/python3.8/site-packages/sklearn/utils/validation.py:73: DataConversionWarning: A column-vector y was passed when a 1d array was expected. Please change the shape of y to (n_samples, ), for example using ravel().\n",
      "  return f(**kwargs)\n"
     ]
    },
    {
     "name": "stdout",
     "output_type": "stream",
     "text": [
      "[0.66435185 0.66435185 0.66435185 0.66435185 0.66203704 0.66357309\n",
      " 0.66357309]\n"
     ]
    }
   ],
   "source": [
    "from sklearn.model_selection import cross_val_score\n",
    "scores = cross_val_score(clf, x_train_1, y_train, cv=7)\n",
    "print(scores)\n",
    "scores_r = cross_val_score(clfr, x_train_1, y_train, cv=7)\n",
    "print(scores_r)"
   ]
  },
  {
   "cell_type": "code",
   "execution_count": 88,
   "metadata": {},
   "outputs": [
    {
     "name": "stdout",
     "output_type": "stream",
     "text": [
      "(3073, 1)\n"
     ]
    }
   ],
   "source": [
    "## Neural network \n",
    "# x_train_1 and y_train to train model\n",
    "q = np.shape(y_train)[1] #number of classification problems\n",
    "p = 3072\n",
    "W = np.random.randn(p+1, q);\n",
    "\n",
    "alpha = 0.35 #step size\n",
    "L = 3000 #number of epochs\n",
    "n = 3022 \n",
    "def tanh(_x):\n",
    "    return np.tanh(_x)   ##1/(1+np.exp(-_x)) 465\n",
    "        \n",
    "for epoch in range(L):\n",
    "    ind = np.random.permutation(n)\n",
    "    for i in ind:\n",
    "        # Forward-propagate \n",
    "        Yhat2 = tanh(x_train_1[[i],:]@W) \n",
    "         # Backpropagate\n",
    "        delta = (Yhat2-y_train[[i],:])*(1-np.square(Yhat2))  ###Yhat2*(1-Yhat2)\n",
    "        Wnew = W - alpha*x_train_1[[i],:].T@delta\n",
    "        W = Wnew\n",
    "print(W.shape)"
   ]
  },
  {
   "cell_type": "code",
   "execution_count": 89,
   "metadata": {},
   "outputs": [
    {
     "name": "stdout",
     "output_type": "stream",
     "text": [
      "Errors of training data: 953\n",
      "Errors of testing data: 386\n"
     ]
    }
   ],
   "source": [
    "## Predict on testing data for 2-layer Neural Network\n",
    "Yhatnn = tanh(x_train_1@W)\n",
    "error_nn0 = [0 if i[0]==i[1] else 1 for i in np.hstack((np.round(Yhatnn), y_train))]\n",
    "print('Errors of training data: '+ str(sum(error_nn0)))\n",
    "Yhat2 = tanh(x_test_1@W)\n",
    "error_nn = [0 if i[0]==i[1] else 1 for i in np.hstack((np.round(Yhat2), y_test))]\n",
    "print('Errors of testing data: '+ str(sum(error_nn)))\n",
    "#y_test_nn = y_test/2+0.5\n",
    "#error_nn2 = np.sum(abs(np.round(Yhat2)-y_test_nn))\n",
    "#print('Errors, first classifier:', error_nn2)"
   ]
  },
  {
   "cell_type": "code",
   "execution_count": 90,
   "metadata": {},
   "outputs": [],
   "source": [
    "## Training NN model for X[3022,3072] take me more than 4hrs with 1000 hidden nodes and 1000 epoachs.\n",
    "## hidden nodes = 2/3 inputs +outputs too large for me\n",
    "## Then I stoped the calculation.\n",
    "## I selected 1000 pics in x_train_1 and 300 damples in x_test_1 for NN "
   ]
  },
  {
   "cell_type": "code",
   "execution_count": 91,
   "metadata": {},
   "outputs": [],
   "source": [
    "x_train_2 = x_train_1[0:1000,:]\n",
    "y_train_2 = y_train[0:1000,:]\n",
    "x_test_2 = x_test_1[0:300,:]\n",
    "y_test_2 = y_test[0:300,:]"
   ]
  },
  {
   "cell_type": "code",
   "execution_count": 92,
   "metadata": {},
   "outputs": [
    {
     "name": "stdout",
     "output_type": "stream",
     "text": [
      "(601, 1)\n",
      "(601, 1)\n",
      "(3073, 600)\n"
     ]
    }
   ],
   "source": [
    "M = 600 #number of hidden nodes\n",
    "\n",
    "## initial weights\n",
    "V3 = np.random.randn(M+1, q); \n",
    "W3 = np.random.randn(p+1, M);\n",
    "print(V3.shape)\n",
    "\n",
    "alpha = 0.35 #step size\n",
    "L = 800 #number of epochs\n",
    "n1 =1000\n",
    "\n",
    "def tanh(_x):\n",
    "    return np.tanh(_x)\n",
    "        \n",
    "for epoch in range(L):\n",
    "    ind = np.random.permutation(n1)\n",
    "    for i in ind:\n",
    "        # Forward-propagate\n",
    "        H = tanh(np.hstack((np.ones((1,1)), x_train_2[[i],:]@W3)))\n",
    "        Yhat0 = tanh(H@V3)\n",
    "         # Backpropagate\n",
    "        delta = (Yhat0-y_train_2[[i],:])*(1-np.square(Yhat0))###Yhat0*(1-Yhat0)\n",
    "        Vnew3 = V3-alpha*H.T@delta\n",
    "        gamma = delta@V3[1:,:].T*(1-np.square(H[:,1:]))  ###H[:,1:]*(1-H[:,1:])\n",
    "        Wnew3 = W3 - alpha*x_train_2[[i],:].T@gamma\n",
    "        V3 = Vnew3\n",
    "        W3 = Wnew3\n",
    "print(V3.shape)\n",
    "print(W3.shape)"
   ]
  },
  {
   "cell_type": "code",
   "execution_count": 93,
   "metadata": {},
   "outputs": [
    {
     "name": "stdout",
     "output_type": "stream",
     "text": [
      "Errors: 154\n"
     ]
    }
   ],
   "source": [
    "## Final predicted labels (on training data)\n",
    "n0 =300\n",
    "H3 = tanh(np.hstack((np.ones((n0,1)), x_test_2@W3)))\n",
    "Yhat3 = tanh(H3@V3)\n",
    "error_nn3 = [0 if i[0]==i[1] else 1 for i in np.hstack((Yhat3, y_test_2))]\n",
    "print('Errors: '+ str(sum(error_nn3)))\n"
   ]
  },
  {
   "cell_type": "code",
   "execution_count": null,
   "metadata": {},
   "outputs": [],
   "source": []
  },
  {
   "cell_type": "code",
   "execution_count": null,
   "metadata": {},
   "outputs": [],
   "source": []
  }
 ],
 "metadata": {
  "kernelspec": {
   "display_name": "Python 3",
   "language": "python",
   "name": "python3"
  },
  "language_info": {
   "codemirror_mode": {
    "name": "ipython",
    "version": 3
   },
   "file_extension": ".py",
   "mimetype": "text/x-python",
   "name": "python",
   "nbconvert_exporter": "python",
   "pygments_lexer": "ipython3",
   "version": "3.8.3"
  }
 },
 "nbformat": 4,
 "nbformat_minor": 4
}
