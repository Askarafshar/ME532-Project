{
 "cells": [
  {
   "cell_type": "code",
   "execution_count": null,
   "metadata": {},
   "outputs": [],
   "source": []
  },
  {
   "cell_type": "code",
   "execution_count": null,
   "metadata": {},
   "outputs": [],
   "source": []
  },
  {
   "cell_type": "code",
   "execution_count": 17,
   "metadata": {},
   "outputs": [
    {
     "name": "stdout",
     "output_type": "stream",
     "text": [
      "Loaded CIFAR-10 training set:\n",
      " - np.shape(images)     (50000, 32, 32, 3)\n",
      " - np.shape(labels)     (50000,)\n"
     ]
    }
   ],
   "source": [
    "import numpy as np\n",
    "import pickle\n",
    "from pathlib import Path\n",
    "\n",
    "# Path to the unzipped CIFAR data\n",
    "data_dir = Path(\"/Users/mmwr/downloads/cifar-10-batches-py/\")\n",
    "\n",
    "# Unpickle function provided by the CIFAR hosts\n",
    "def unpickle(file):\n",
    "    with open(file, \"rb\") as fo:\n",
    "        dict = pickle.load(fo, encoding=\"bytes\")\n",
    "    return dict\n",
    "\n",
    "images, labels = [], []\n",
    "for batch in data_dir.glob(\"data_batch_*\"):\n",
    "    batch_data = unpickle(batch)\n",
    "    for i, flat_im in enumerate(batch_data[b\"data\"]):\n",
    "        im_channels = []\n",
    "        # Each image is flattened, with channels in order of R, G, B\n",
    "        for j in range(3):\n",
    "            im_channels.append(\n",
    "                flat_im[j * 1024 : (j + 1) * 1024].reshape((32, 32))\n",
    "            )\n",
    "        # Reconstruct the original image\n",
    "        images.append(np.dstack((im_channels)))\n",
    "        # Save the label\n",
    "        labels.append(batch_data[b\"labels\"][i])\n",
    "\n",
    "print(\"Loaded CIFAR-10 training set:\")\n",
    "print(f\" - np.shape(images)     {np.shape(images)}\")\n",
    "print(f\" - np.shape(labels)     {np.shape(labels)}\")"
   ]
  },
  {
   "cell_type": "code",
   "execution_count": 18,
   "metadata": {},
   "outputs": [
    {
     "name": "stdout",
     "output_type": "stream",
     "text": [
      "2\n"
     ]
    },
    {
     "data": {
      "image/png": "[encoded data removed]",
      "text/plain": [
       "<Figure size 432x288 with 1 Axes>"
      ]
     },
     "metadata": {
      "needs_background": "light"
     },
     "output_type": "display_data"
    }
   ],
   "source": [
    "import matplotlib.pyplot as plt\n",
    "plt.imshow(images[57])\n",
    "img = images[6]\n",
    "print(labels[57])"
   ]
  },
  {
   "cell_type": "code",
   "execution_count": 19,
   "metadata": {},
   "outputs": [
    {
     "name": "stdout",
     "output_type": "stream",
     "text": [
      "(303, 32, 32, 3)\n",
      "(303, 1)\n"
     ]
    }
   ],
   "source": [
    "#find training data\n",
    "#find the cat pictures and labeled with 1 and cars, birds pic are assigned as -1\n",
    "#labels == 3 are cats\n",
    "#labels == 2 are birds\n",
    "#labels == 1 are cars\n",
    "index = np.where((np.array(labels)[0:1000] == 1) |(np.array(labels)[0:1000] == 2)| (np.array(labels)[0:1000] == 3))\n",
    "ind_cat = np.where(np.array(labels)[0:1000] == 3)\n",
    "ind_car_bir = np.where((np.array(labels)[0:1000] == 1)| (np.array(labels)[0:1000] == 2))\n",
    "images1 = np.array(images)\n",
    "images1 = images1[index]\n",
    "labels1 = np.array(labels)\n",
    "labels1[ind_cat] = 1\n",
    "labels1[ind_car_bir] = -1\n",
    "y = labels1[index]\n",
    "y_train = np.reshape(y,(len(y),1))\n",
    "x_train = images1\n",
    "print(x_train.shape)\n",
    "print(y_train.shape)"
   ]
  },
  {
   "cell_type": "code",
   "execution_count": 20,
   "metadata": {},
   "outputs": [
    {
     "name": "stdout",
     "output_type": "stream",
     "text": [
      "(173, 32, 32, 3)\n",
      "(173, 1)\n"
     ]
    }
   ],
   "source": [
    "#find testing data\n",
    "index_t = np.where((np.array(labels)[1001:1600] == 1) |(np.array(labels)[1001:1600] == 2)| (np.array(labels)[1001:1600] == 3))\n",
    "ind_cat_t = np.where(np.array(labels)[1001:1600] == 3)\n",
    "ind_car_bir_t = np.where((np.array(labels)[1001:1600] == 1)| (np.array(labels)[1001:1600] == 2))\n",
    "images2 = np.array(images)\n",
    "images2 = images2[index_t]\n",
    "labels2 = np.array(labels)\n",
    "labels2[ind_cat_t] = 1\n",
    "labels2[ind_car_bir_t] = -1\n",
    "y1 = labels2[index_t]\n",
    "y_test = np.reshape(y1,(len(y1),1))\n",
    "x_test = images2\n",
    "print(x_test.shape)\n",
    "print(y_test.shape)"
   ]
  },
  {
   "cell_type": "code",
   "execution_count": 21,
   "metadata": {},
   "outputs": [
    {
     "name": "stdout",
     "output_type": "stream",
     "text": [
      "(303, 32, 32, 3)\n",
      "(173, 32, 32, 3)\n"
     ]
    }
   ],
   "source": [
    "#normalize train data and test data\n",
    "mean = np.mean(x_train, axis = (0,1,2,3))\n",
    "std = np.std(x_train, axis = (0,1,2,3))\n",
    "x_train = (x_train-mean)/(std+1e-7)\n",
    "x_test = (x_test-mean)/(std+1e-7)\n",
    "print(x_train.shape)\n",
    "print(x_test.shape)"
   ]
  },
  {
   "cell_type": "code",
   "execution_count": 22,
   "metadata": {},
   "outputs": [
    {
     "name": "stdout",
     "output_type": "stream",
     "text": [
      "(303, 3072)\n",
      "(173, 3072)\n"
     ]
    }
   ],
   "source": [
    "#flatten matrix\n",
    "x_train = x_train.reshape(303, 3072)\n",
    "x_test = x_test.reshape(173,3072)\n",
    "print(x_train.shape)\n",
    "print(x_test.shape)"
   ]
  },
  {
   "cell_type": "code",
   "execution_count": 26,
   "metadata": {},
   "outputs": [
    {
     "name": "stdout",
     "output_type": "stream",
     "text": [
      "3072\n",
      "Errors: 92\n"
     ]
    }
   ],
   "source": [
    "# Least_square solution\n",
    "w0 = np.linalg.inv(x_train.T@x_train)\n",
    "w_opt = w0@x_train.T@y_train\n",
    "y_hat = np.sign(x_test@w_opt)\n",
    "error_vec = [0 if i[0]==i[1] else 1 for i in np.hstack((y_hat, y_test))]\n",
    "print(len(w0))\n",
    "print('Errors: '+ str(sum(error_vec)))"
   ]
  },
  {
   "cell_type": "code",
   "execution_count": 48,
   "metadata": {},
   "outputs": [
    {
     "name": "stdout",
     "output_type": "stream",
     "text": [
      "(array([0]), array([10]))\n",
      "Errors for differnt lamda [[85. 85. 84. 82. 83. 80. 79. 78. 77. 77. 76. 79. 78.]]\n",
      "lamda value for min errors 50000.0\n",
      "Min Error [76.]\n"
     ]
    }
   ],
   "source": [
    "## Ridge Regression\n",
    "# Find the best Lamda for minimum misclassification\n",
    "lamda = np.array([0.5, 1.0, 10.0, 50.0, 100.0, 500.0, 1000.0, 2000.0, 5000.0, 10000.0, 50000.0, 100000.0, 500000.0])\n",
    "N = len(lamda)\n",
    "err = np.zeros((1,N))\n",
    "for i in range(N):\n",
    "    lam = lamda[i]\n",
    "    wr0 = np.linalg.inv(x_train.T@x_train + lam*np.identity(len(w0)))\n",
    "    w_rr = wr0@x_train.T@y_train\n",
    "    yr_hat = np.sign(x_test@w_rr)\n",
    "    error_vec = [0 if i[0]==i[1] else 1 for i in np.hstack((yr_hat, y_test))]\n",
    "    arr_err = np.array(error_vec)\n",
    "    error = sum(arr_err)\n",
    "    err[:,i] = error\n",
    "min_value = np.amin(err)\n",
    "index = np.where(err == min_value)\n",
    "print(index)\n",
    "print('Errors for differnt lamda', err)\n",
    "print('lamda value for min errors', lamda[10])\n",
    "print('Min Error', err[:,10])"
   ]
  },
  {
   "cell_type": "code",
   "execution_count": null,
   "metadata": {},
   "outputs": [],
   "source": []
  }
 ],
 "metadata": {
  "kernelspec": {
   "display_name": "Python 3",
   "language": "python",
   "name": "python3"
  },
  "language_info": {
   "codemirror_mode": {
    "name": "ipython",
    "version": 3
   },
   "file_extension": ".py",
   "mimetype": "text/x-python",
   "name": "python",
   "nbconvert_exporter": "python",
   "pygments_lexer": "ipython3",
   "version": "3.8.3"
  }
 },
 "nbformat": 4,
 "nbformat_minor": 4
}
